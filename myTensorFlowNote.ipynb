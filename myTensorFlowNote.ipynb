{
 "cells": [
  {
   "cell_type": "markdown",
   "metadata": {
    "tags": [],
    "toc-hr-collapsed": true
   },
   "source": [
    "# Machine Learning Basics\n",
    "\n",
    "## 確認 tesnsorflow 的安裝"
   ]
  },
  {
   "cell_type": "code",
   "execution_count": 2,
   "metadata": {},
   "outputs": [
    {
     "name": "stdout",
     "output_type": "stream",
     "text": [
      "Tensorflow Version: 2.4.0\n",
      "Num GPUs Available:  1\n"
     ]
    }
   ],
   "source": [
    "import tensorflow as tf\n",
    "import numpy as np\n",
    "import matplotlib.pyplot as plt\n",
    "from mpl_toolkits.mplot3d import Axes3D\n",
    "# 啟動 eager execution 模式\n",
    "tf.executing_eagerly = True\n",
    "\n",
    "# 這個最好也要執行，不然 No algorithm worked.......\n",
    "\n",
    "print('Tensorflow Version: ' + tf.__version__)\n",
    "print(\"Num GPUs Available: \", len(tf.config.list_physical_devices('GPU')))\n",
    "\n",
    "# def set_tensorflow_config(per_process_gpu_memory_fraction=0.8):\n",
    "#     config = tf.compat.v1.ConfigProto()\n",
    "#     # config = tf.ConfigProto()\n",
    "#     config.gpu_options.per_process_gpu_memory_fraction = per_process_gpu_memory_fraction\n",
    "#     config.gpu_options.allow_growth=True\n",
    "#     # sess = tf.Session(config=config)\n",
    "#     sess = tf.compat.v1.Session(config=config)\n",
    "    \n",
    "#     print(\"== TensorFlow Config options set ==\")\n",
    "#     print(\"\\nThis process will now utilize {} GPU Memeory Fraction\".format(per_process_gpu_memory_fraction))\n",
    "\n",
    "# set_tensorflow_config()\n"
   ]
  },
  {
   "cell_type": "code",
   "execution_count": 3,
   "metadata": {},
   "outputs": [
    {
     "name": "stderr",
     "output_type": "stream",
     "text": [
      "c:\\users\\clin8\\myapp\\python\\ai\\lib\\site-packages\\tensorflow\\python\\client\\session.py:1761: UserWarning: An interactive session is already active. This can cause out-of-memory errors in some cases. You must explicitly call `InteractiveSession.close()` to release resources held by the other session(s).\n",
      "  warnings.warn('An interactive session is already active. This can '\n"
     ]
    }
   ],
   "source": [
    "\n",
    "\n",
    "from tensorflow.compat.v1 import ConfigProto\n",
    "from tensorflow.compat.v1 import InteractiveSession\n",
    "\n",
    "config = ConfigProto()\n",
    "config.gpu_options.allow_growth = True\n",
    "session = InteractiveSession(config=config)"
   ]
  },
  {
   "cell_type": "code",
   "execution_count": 2,
   "metadata": {},
   "outputs": [
    {
     "name": "stdout",
     "output_type": "stream",
     "text": [
      "When n = 1000, runtime of CPU: 0.0036, GPU 1.2898\n",
      "When n = 10000, runtime of CPU: 0.0008, GPU 0.0013\n",
      "When n = 100000, runtime of CPU: 0.0021, GPU 0.0013\n",
      "When n = 1000000, runtime of CPU: 0.0388, GPU 0.0027\n",
      "When n = 10000000, runtime of CPU: 0.1619, GPU 0.0069\n",
      "When n = 100000000, runtime of CPU: 1.5930, GPU 0.0015\n"
     ]
    }
   ],
   "source": [
    "# 測試 CPU 和 GPU 速度差異\n",
    "\n",
    "import timeit\n",
    "\n",
    "n = 100000000\n",
    "\n",
    "with tf.device('/cpu:0'):\n",
    "    cpu_a = tf.random.normal([1,n])\n",
    "    cpu_b = tf.random.normal([n,1])\n",
    "#     print(cpu_a.device, cpu_b.device)\n",
    "    \n",
    "with tf.device('/gpu:0'):\n",
    "    gpu_a = tf.random.normal([1,n])\n",
    "    gpu_b = tf.random.normal([n,1])\n",
    "#     print(gpu_a.device, gpu_b.device)\n",
    "    \n",
    "def cpu_run():\n",
    "    with tf.device('/cpu:0'):\n",
    "        return tf.matmul(cpu_a, cpu_b)\n",
    "    \n",
    "def gpu_run():\n",
    "    with tf.device('/gpu:0'):\n",
    "        return tf.matmul(gpu_a, gpu_b)\n",
    "    \n",
    "n_list = [1000,10000,100000,1000000,10000000,100000000]\n",
    "result_cpu = []\n",
    "result_gpu = []\n",
    "nums = []\n",
    "\n",
    "for n in n_list:\n",
    "    with tf.device('/cpu:0'):\n",
    "        cpu_a = tf.random.normal([1,n])\n",
    "        cpu_b = tf.random.normal([n,1])\n",
    "#     print(cpu_a.device, cpu_b.device)\n",
    "    \n",
    "    with tf.device('/gpu:0'):\n",
    "        gpu_a = tf.random.normal([1,n])\n",
    "        gpu_b = tf.random.normal([n,1])\n",
    "#     print(gpu_a.device, gpu_b.device)\n",
    "\n",
    "    cpu_time = timeit.timeit(cpu_run, number= 20)\n",
    "    gpu_time = timeit.timeit(gpu_run, number= 20)\n",
    "    nums.append(n)\n",
    "    result_cpu.append(cpu_time)\n",
    "    result_gpu.append(gpu_time)\n",
    "    print('When n = %d, runtime of CPU: %.4f, GPU %.4f' %(n, cpu_time, gpu_time))\n"
   ]
  },
  {
   "cell_type": "code",
   "execution_count": 3,
   "metadata": {},
   "outputs": [
    {
     "data": {
      "image/png": "[encoded data removed]",
      "text/plain": [
       "<Figure size 432x288 with 1 Axes>"
      ]
     },
     "metadata": {
      "needs_background": "light"
     },
     "output_type": "display_data"
    }
   ],
   "source": [
    "lineA = plt.plot(np.log10(nums), np.log10(result_gpu), color=(255/255,100/255,100/255), label='GPU')\n",
    "lineB = plt.plot(np.log10(nums), np.log10(result_cpu), color=(100/255,100/255,255/255), label='CPU')\n",
    "# lines = plt.plot(nums, result_gpu,nums, result_cpu)\n",
    "plt.setp(lineA, marker = 'o', linestyle = '--')\n",
    "plt.setp(lineB, marker = 'x', linestyle = '--')\n",
    "\n",
    "plt.title('Tensorflow using CPU vs. GPU')\n",
    "plt.xlabel('N array (log10)')\n",
    "plt.ylabel('Time of 20 times of operation (log10)')\n",
    "plt.grid(True)\n",
    "plt.legend()\n",
    "plt.show()"
   ]
  },
  {
   "cell_type": "markdown",
   "metadata": {},
   "source": [
    "## TensorFlow Basics\n",
    "\n",
    "### Tensors"
   ]
  },
  {
   "cell_type": "code",
   "execution_count": 4,
   "metadata": {},
   "outputs": [
    {
     "data": {
      "text/plain": [
       "(float, tensorflow.python.framework.ops.EagerTensor, True)"
      ]
     },
     "execution_count": 4,
     "metadata": {},
     "output_type": "execute_result"
    }
   ],
   "source": [
    "a = 1.2\n",
    "aa = tf.constant(1.2)\n",
    "type(a), type(aa), tf.is_tensor(aa)"
   ]
  },
  {
   "cell_type": "code",
   "execution_count": 5,
   "metadata": {},
   "outputs": [
    {
     "data": {
      "text/plain": [
       "<tf.Tensor: shape=(3,), dtype=float32, numpy=array([1. , 2. , 3.3], dtype=float32)>"
      ]
     },
     "execution_count": 5,
     "metadata": {},
     "output_type": "execute_result"
    }
   ],
   "source": [
    "x = tf.constant([1.,2.,3.3])\n",
    "x"
   ]
  },
  {
   "cell_type": "code",
   "execution_count": 6,
   "metadata": {},
   "outputs": [
    {
     "data": {
      "text/plain": [
       "array([1. , 2. , 3.3], dtype=float32)"
      ]
     },
     "execution_count": 6,
     "metadata": {},
     "output_type": "execute_result"
    }
   ],
   "source": [
    "# 轉回 numpy\n",
    "x.numpy()"
   ]
  },
  {
   "cell_type": "code",
   "execution_count": 7,
   "metadata": {},
   "outputs": [
    {
     "data": {
      "text/plain": [
       "TensorShape([2, 2, 2])"
      ]
     },
     "execution_count": 7,
     "metadata": {},
     "output_type": "execute_result"
    }
   ],
   "source": [
    "x = tf.constant([[[1,2],[3,4]],[[5,6],[7,8]]])\n",
    "x.shape"
   ]
  },
  {
   "cell_type": "code",
   "execution_count": 8,
   "metadata": {},
   "outputs": [
    {
     "data": {
      "text/plain": [
       "<tf.Tensor: shape=(), dtype=string, numpy=b'hello world!'>"
      ]
     },
     "execution_count": 8,
     "metadata": {},
     "output_type": "execute_result"
    }
   ],
   "source": [
    "s = tf.constant('Hello world!')\n",
    "tf.strings.lower(s)"
   ]
  },
  {
   "cell_type": "code",
   "execution_count": 9,
   "metadata": {},
   "outputs": [
    {
     "data": {
      "text/plain": [
       "<tf.Tensor: shape=(), dtype=bool, numpy=True>"
      ]
     },
     "execution_count": 9,
     "metadata": {},
     "output_type": "execute_result"
    }
   ],
   "source": [
    "b = tf.constant(True)\n",
    "# b is True\n",
    "b == True"
   ]
  },
  {
   "cell_type": "code",
   "execution_count": 10,
   "metadata": {},
   "outputs": [],
   "source": [
    "# 精度 int16, int32, int64, float16, float32, float64, ...\n",
    "a = tf.constant(123456789, dtype=tf.int16)\n",
    "# a = tf.constant(123456789, dtype=tf.int32)"
   ]
  },
  {
   "cell_type": "code",
   "execution_count": 11,
   "metadata": {},
   "outputs": [
    {
     "data": {
      "text/plain": [
       "<tf.Tensor: shape=(), dtype=int32, numpy=-13035>"
      ]
     },
     "execution_count": 11,
     "metadata": {},
     "output_type": "execute_result"
    }
   ],
   "source": [
    "# 轉換精度\n",
    "if a.dtype != tf.int32:\n",
    "    a = tf.cast(a, tf.int32)\n",
    "    \n",
    "a"
   ]
  },
  {
   "cell_type": "code",
   "execution_count": 12,
   "metadata": {},
   "outputs": [
    {
     "data": {
      "text/plain": [
       "<tf.Tensor: shape=(3, 3), dtype=int32, numpy=\n",
       "array([[1, 2, 3],\n",
       "       [2, 3, 4],\n",
       "       [3, 4, 5]])>"
      ]
     },
     "execution_count": 12,
     "metadata": {},
     "output_type": "execute_result"
    }
   ],
   "source": [
    "# 轉換 from numpy.array or list\n",
    "\n",
    "a = [[1,2,3],[2,3,4],[3,4,5]]\n",
    "numpy_a = np.array(a)\n",
    "tf_a = tf.convert_to_tensor(a)\n",
    "tf_a"
   ]
  },
  {
   "cell_type": "code",
   "execution_count": 13,
   "metadata": {},
   "outputs": [
    {
     "data": {
      "text/plain": [
       "<tf.Tensor: shape=(3, 3), dtype=float32, numpy=\n",
       "array([[1., 1., 1.],\n",
       "       [1., 1., 1.],\n",
       "       [1., 1., 1.]], dtype=float32)>"
      ]
     },
     "execution_count": 13,
     "metadata": {},
     "output_type": "execute_result"
    }
   ],
   "source": [
    "# 這個很酷，建立全 0 or 全 1 的張量，不用指定形狀，當然，也可以指定\n",
    "\n",
    "z = tf.zeros([])\n",
    "o = tf.ones([])\n",
    "z33 = tf.ones([3,3])\n",
    "z33"
   ]
  },
  {
   "cell_type": "code",
   "execution_count": 14,
   "metadata": {},
   "outputs": [
    {
     "name": "stdout",
     "output_type": "stream",
     "text": [
      "tf.Tensor(\n",
      "[[1 2 3]\n",
      " [2 3 4]\n",
      " [3 4 5]], shape=(3, 3), dtype=int32)\n",
      "tf.Tensor(\n",
      "[[0 0 0]\n",
      " [0 0 0]\n",
      " [0 0 0]], shape=(3, 3), dtype=int32)\n"
     ]
    }
   ],
   "source": [
    "# 通過 like 可以建立形狀一樣的 0 / 1 張量\n",
    "print(tf_a)\n",
    "\n",
    "z_a = tf.zeros_like(tf_a)\n",
    "print(z_a)"
   ]
  },
  {
   "cell_type": "code",
   "execution_count": 15,
   "metadata": {},
   "outputs": [
    {
     "name": "stdout",
     "output_type": "stream",
     "text": [
      "tf.Tensor(\n",
      "[[99. 99.]\n",
      " [99. 99.]\n",
      " [99. 99.]], shape=(3, 2), dtype=float32)\n"
     ]
    }
   ],
   "source": [
    "# 創建自訂數值的張量，形狀可以由 shape 參數指定\n",
    "\n",
    "tf_any = tf.fill([], -1)\n",
    "tf_any = tf.fill([3,2], 99.)\n",
    "print(tf_any)"
   ]
  },
  {
   "cell_type": "code",
   "execution_count": 16,
   "metadata": {},
   "outputs": [
    {
     "name": "stdout",
     "output_type": "stream",
     "text": [
      "tf.Tensor(\n",
      "[[1.2914581  0.94345856 1.1650009  1.1644319  0.9062506 ]\n",
      " [1.1350812  1.065728   1.2576395  0.61384606 1.3608384 ]\n",
      " [1.0460066  1.2998005  0.60839736 1.4730248  0.8806385 ]\n",
      " [0.8748949  0.91007787 0.9422079  1.1858557  0.9411287 ]\n",
      " [1.1808281  1.0326407  0.8728918  0.9970316  0.84486616]], shape=(5, 5), dtype=float32)\n"
     ]
    }
   ],
   "source": [
    "# 創建一個分布\n",
    "\n",
    "tf_norm_dist = tf.random.normal([5,5], mean = 1., stddev = 0.2)\n",
    "print(tf_norm_dist)"
   ]
  },
  {
   "cell_type": "code",
   "execution_count": 19,
   "metadata": {},
   "outputs": [
    {
     "name": "stdout",
     "output_type": "stream",
     "text": [
      "tf.Tensor(\n",
      "[[ 0.03256083  0.48465872 -0.67621994]\n",
      " [-0.01809406  0.6386244   0.98438525]\n",
      " [-0.1460216   0.2891419   0.7385464 ]\n",
      " [ 0.71153164 -0.87572265  0.15578151]\n",
      " [-0.78932095  0.3983035  -0.58076835]], shape=(5, 3), dtype=float32)\n"
     ]
    }
   ],
   "source": [
    "# 通过 tf.random.uniform(shape, minval=0, maxval=None, dtype=tf.float32)可以创建采样自 [minval, maxval)区间的均匀分布的张量\n",
    "\n",
    "tf_unif_dist = tf.random.uniform([5,3], minval=-1., maxval=1.)\n",
    "print(tf_unif_dist)"
   ]
  },
  {
   "cell_type": "code",
   "execution_count": 18,
   "metadata": {},
   "outputs": [
    {
     "name": "stdout",
     "output_type": "stream",
     "text": [
      "tf.Tensor([1.  1.5 2.  2.5 3.  3.5 4.  4.5 5.  5.5 6.  6.5 7.  7.5 8.  8.5 9.  9.5], shape=(18,), dtype=float32)\n"
     ]
    }
   ],
   "source": [
    "# 通过 tf.range()函数实现。tf.range(limit, delta=1)可以创建[0, limit)之间，步长为 delta 的整型序列，不包含 limit 本身。例如，创建 0~10，步长为 1 的整型序列\n",
    "\n",
    "tf_range = tf.range(start=1, limit=10, delta=0.5)\n",
    "print(tf_range)"
   ]
  },
  {
   "cell_type": "markdown",
   "metadata": {},
   "source": [
    "**Summary**\n",
    "\n",
    "> 矩阵 - 也是非常常见的张量类型，比如全连接层的批量输入张量𝑿的形状为 [𝑏, 𝑑in]，其 中𝑏表示输入样本的个数，即Batch Size，𝑑in表示输入特征的长度。例如特征长度为 4，一\n",
    "共包含 2 个样本的输入可以表示为矩阵\n",
    "\n",
    "> 三维张量 - 𝑿 = [𝑏, sequence len, feature len] 𝑏表示序列信号的数量，sequence len 表示序列信号在时间维度上的采样点数或步数， feature len 表示每个点的特征长度\n",
    "\n",
    "> 四维张量 - 𝑿 = [𝑏, ℎ, w , 𝑐] 𝑏表示输入样本的数量，ℎ/ 分别表示特征图的高/宽，𝑐表示特征图的通道数，部分深 度学习框架也会使用[𝑏, 𝑐, ℎ, w ]格式的特征图张量，每张图片包含了ℎ行 列像素点，每个点需要 3 个数值表示RGB通道的颜色强度，因此一张图片可以表示为[ℎ, w , 3]。故𝑏张图片的张量可表示为 [𝑏, ℎ, w , 3]\n",
    "\n",
    ">> 第 3 张图片，第 2 行，第 1 列的像素，B通道(第 2 个通道)颜色强度值 x[2][1][0][1], or x[2,1,0,1]\n",
    "\n",
    ">> 第 2,3 张图片 x[1:3], start: end: step切片方式有很多简写方式，其中 start、end、step 3 个参数可以根据需要 选择性地省略，全部省略时即为::，表示从最开始读取到最末尾，步长为 1，即不跳过任何 元素。如 x[0,::]表示读取第 1 张图片的所有行，其中::表示在行维度上读取所有行，它等价于 x[0]的写法\n",
    "\n",
    ">> 为了更加简洁，::可以简写为单个冒号:, x[:,0:28:2,0:28:2,:]\n",
    "\n",
    ">> step 可以为负数，考虑最特殊的一种例子，当step = −1时，start: end:−1表 示从 start 开始，逆序读取至 end 结束(不包含 end)，索引号𝑒𝑛𝑑 ≤ 𝑠𝑡𝑎𝑟𝑡。考虑一个 0~9 的\n",
    "简单序列向量，逆序取到第 1 号元素，不包含第 1 号\n",
    "\n",
    ">>> x[::-1] # 逆序全部元素\n",
    "\n",
    ">>> x[::-2] # 逆序间隔采样\n",
    "\n",
    ">>> x[0,::-2,::-2] # 行、列逆序间隔采样\n",
    "\n",
    ">> 为了避免出现像 [: , : , : ,1]这样过多冒号的情况，可以使用⋯符号表示取多个维度上所 有的数据，其中维度的数量需根据规则自动推断：当切片方式出现⋯符号时，⋯符号左边 的维度将自动对齐到最左边，⋯符号右边的维度将自动对齐到最右边，此时系统再自动推\n",
    "断⋯符号代表的维度数量\n",
    "\n",
    ">>> 读取第 1~2 张图片的G/B通道数据， x[0:2,...,1:] # 高宽维度全部采集\n",
    "\n",
    ">>> 读取第 2 张图片之後的所有數據， x[2:,...] # 高、宽、通道维度全部采集，等价于 x[2:]\n",
    "\n",
    ">>> 读取R/G通道数据，x[...,:2] # 所有样本，所有高、宽的前 2 个通道\n",
    "\n",
    "![](pictures/2021-06-16_172147.png)\n",
    "\n",
    "![](pictures/2021-06-16_174335.png)\n",
    "\n"
   ]
  },
  {
   "cell_type": "markdown",
   "metadata": {},
   "source": [
    "### 維度轉換操作\n",
    "\n",
    "在神经网络运算过程中，维度变换是最核心的张量操作，通过维度变换可以将数据任 意地切换形式，满足不同场合的运算需求。\n",
    "\n",
    "![](pictures/2021-06-16_180318.png)"
   ]
  },
  {
   "cell_type": "markdown",
   "metadata": {},
   "source": [
    "在 TensorFlow中，可以通过张量的 ndim和 shape 成员属性获得张量的维度数和形状\n",
    "\n",
    "> x.ndim,x.shape # 获取张量的维度数和形状列表\n",
    "\n",
    "> 通过 tf.reshape(x, new_shape)，可以将张量的视图任意地合法改变\n",
    "\n",
    ">> tf.reshape(x,[2,-1]) # 参数−1表示当前轴上长度需要根据张量总元素不变的法则自动推导，从而方便用户书写, 同上例，等同於 tf.reshape(x,[2,48])\n",
    "\n",
    ">> tf.reshape(x,[2,4,12]) Out[70]:<tf.Tensor: id=523, shape=(2, 4, 12), dtype=int32, numpy= array([[[ 0, 1, 2, 3, 4, 5, 6, 7, 8, 9, 10, 11],…[36, 37, 38, 39, 40, 41, 42, 43, 44, 45, 46, 47]], [[48, 49, 50, 51, 52, 53, 54, 55, 56, 57, 58, 59], … [84, 85, 86, 87, 88, 89, 90, 91, 92, 93, 94, 95]]])>\n",
    "\n",
    ">> 再次改变数据的视图为[2,16,3] ，实现如下： In [71]: tf.reshape(x,[2,-1,3]) Out[71]:<tf.Tensor: id=526, shape=(2, 16, 3), dtype=int32, numpy= array([[[ 0, 1,2], …[45, 46, 47]], [[48, 49, 50],…[93, 94, 95]]])>\n",
    "\n",
    "通过 tf.expand_dims(x, axis)可在指定的 axis 轴前可以插入一个新的维度\n",
    "\n",
    "> x = tf.random.uniform([28,28],maxval=10,dtype=tf.int32)\n",
    "\n",
    "> x = tf.expand_dims(x,axis=2) # axis=2 表示宽维度后面的一个维度\n",
    "\n",
    "> 插入一个新维度后，数据的存储顺序并没有改变，依然按着6,2,0,0,6,7,⋯的顺 序保存，仅仅是在插入一个新的维度后，改变了数据的视图\n",
    "\n",
    "> x = tf.expand_dims(x,axis=0) # 高维度之前插入新维度 (在最前面插入一个新的维度)\n",
    "\n",
    "\n",
    "**删除维度** \n",
    "\n",
    "是增加维度的逆操作，与增加维度一样，删除维度只能删除长度为 1 的维 度，也不会改变张量的存储。继续考虑增加维度后 shape 为[1,28,28,1]的例子，如果希望将 图片数量维度删除，可以通过 tf.squeeze(x, axis)函数，axis 参数为待删除的维度的索引号，\n",
    "例如，图片数量的维度轴 axis=0\n",
    "\n",
    "> 如果不指定维度参数 axis，即 tf.squeeze(x)，那么它会默认删除所有长度为 1 的维度\n",
    "\n",
    "\n",
    "**交换维度**\n",
    "\n",
    "交换维度操作是非常常见的，比如在 TensorFlow中，图片张量的默认存储格式是通道 后行格式：[𝑏, ℎ, , 𝑐]，但是部分库的图片格式是通道先行格式：[𝑏, 𝑐, ℎ, ]，因此需要完成\n",
    "[𝑏, ℎ, w , 𝑐]到[𝑏, 𝑐, ℎ, w ]维度交换运算，\n",
    "\n",
    "> 以[𝑏, ℎ, w , 𝑐]转换到 [𝑏, 𝑐, ℎ, w]为例，介绍如何使用 tf.transpose(x, perm)函数完成维度交换操作，其中参数 perm 表示新维度的顺序 List。\n",
    "考虑图片张量 shape 为[2,32,32,3]，“图片数量、行、列、通道数”的维度索引分别为 0、1、2、3，如果需要交换为[𝑏, 𝑐, ℎ, w ]格式，则新维度的排序为 “图片数量、通道数、行、列”，对应的索引号为[0,3,1,2]，因此参数 perm需设置为 [0,3,1,2]\n",
    "\n",
    ">> x = tf.random.normal([2,32,32,3])\n",
    "\n",
    ">> tf.transpose(x,perm=[0,3,1,2])\n",
    "\n",
    ">> Out[78]: <tf.Tensor: id=603, shape=(2, 3, 32, 32)\n",
    "\n",
    "> 通过 tf.transpose 完成维度交换后，张量的存储顺序已经改变，视图也 随之改变，后续的所有操作必须基于新的存续顺序和视图进行。\n",
    "\n",
    "\n",
    "**复制数据**\n",
    "\n",
    "雖然少用…但…\n",
    "\n",
    "列维度复制 1 份数据 x = tf.tile(x,multiples=[1,2])\n",
    "\n",
    "在行维度复制 1 份数据，x = tf.tile(x,multiples=[2,1])\n",
    "\n",
    "经过 2 个维度上的复制运算后，可以看到数据的变化过程，shape 也变为原来的 2 倍。需要注意的是，tf.tile 会创建一个新的张量来保存复制后的张量，由于复制操作涉及大 量数据的读写 IO运算，计算代价相对较高。\n",
    "\n",
    "\n",
    "**Broadcasting**\n",
    "\n",
    "Broadcasting 称为广播机制(或自动扩展机制)，它是一种轻量级的张量复制手段，在逻 辑上扩展张量数据的形状，但是只会在需要时才会执行实际存储复制操作。区别在于 tf.tile 会创建一个新的张量，执行复制 IO操作，并保存复制后的 张量数据，而Broadcasting 并不会立即复制数据，它会在逻辑上改变张量的形状，使得视图上变成了复制后的形状。\n",
    "\n",
    "Broadcasting 机制节省了大量计算资源， 建议在运算过程中尽可能地利用Broadcasting 机制提高计算效率。\n",
    "\n",
    "下面的例子，在不同維度運算的時候，b 的維度並非 [2,3] 但卻不會出 alarm, 原因是 tensorflow 自動調用 broadcasting y = x@w + **tf.broadcast_to(b,[2,3])**"
   ]
  },
  {
   "cell_type": "code",
   "execution_count": 24,
   "metadata": {},
   "outputs": [
    {
     "name": "stdout",
     "output_type": "stream",
     "text": [
      "tf.Tensor(\n",
      "[[ 0.7764751  -0.25436386 -1.4131246 ]\n",
      " [ 0.46890044 -0.0116263  -0.92077655]], shape=(2, 3), dtype=float32)\n"
     ]
    }
   ],
   "source": [
    "x = tf.random.normal([2,4])\n",
    "w = tf.random.normal([4,3])\n",
    "b = tf.random.normal([3])\n",
    "y = x@w+b # 不同 shape 的张量直接相加\n",
    "print(y)"
   ]
  },
  {
   "cell_type": "markdown",
   "metadata": {},
   "source": [
    "也就是说，操作符+在遇到 shape 不一致的 2 个张量时，会自动考虑将 2 个张量自动扩展到 一致的 shape，然后再调用 tf.add 完成张量相加运算，这也就解释了我们之前一直存在的困 惑。通过自动调用 tf.broadcast_to(b, [2,3])的Broadcasting 机制，既实现了增加维度、复制数据的目的，又避免实际复制数据的昂贵计算代价，同时使书写更加简洁高效。\n",
    "\n",
    "Broadcasting 机制的核心思想是普适性，即同一份数据能普遍适合于其他位置。在验证 普适性之前，需要先将张量 shape 靠右对齐，然后进行普适性判断：对于长度为 1 的维 度，默认这个数据普遍适合于当前维度的其他位置；对于不存在的维度，则在增加新维度 后默认当前数据也是普适于新维度的，从而可以扩展为更多维度数、任意长度的张量形状。\n",
    "\n",
    "最好，還是自己處理。"
   ]
  },
  {
   "cell_type": "markdown",
   "metadata": {},
   "source": [
    "### 加、减、乘、除\n",
    "\n",
    "加、减、乘、除是最基本的数学运算，分别通过 tf.add, tf.subtract, tf.multiply, tf.divide\n",
    "函数实现，TensorFlow已经重载了+、−、 ∗、/运算符，一般推荐直接使用运算符来完成 加、减、乘、除运算。\n",
    "\n",
    "整除和余除也是常见的运算之一，分别通过//和%运算符实现。\n",
    "\n",
    "**乘方运算**\n",
    "\n",
    "> 通过 tf.pow(x, a)可以方便地完成𝑦 =  𝑎的乘方运算，也可以通过运算符**实现  ∗∗ 𝑎运 算\n",
    "\n",
    "> x = tf.range(4) \n",
    "\n",
    "> tf.pow(x,3) # 乘方运算\n",
    "\n",
    "> x**2 # 乘方运算符\n",
    "\n",
    "设置指数为 1/𝑎形式，即可实现 √ 𝑎 根号运算\n",
    "\n",
    "> x=tf.constant([1.,4.,9.])\n",
    "\n",
    "> x**(0.5) # 平方根\n",
    "\n",
    "> 对于常见的平方和平方根运算，可以使用 tf.square(x)和 tf.sqrt(x)实现。\n",
    "\n",
    "**指数和对数运算**\n",
    "\n",
    "通过 tf.pow(a, x)或者**运算符也可以方便地实现指数运算𝑎𝑥\n",
    "\n",
    "> 2**x # 指数运算\n",
    "\n",
    "对于自然指数e𝑥，可以通过 tf.exp(x)实现\n",
    "\n",
    "自然对数loge x 可以通过 tf.math.log(x)实现\n",
    "\n",
    "如果希望计算其它底数的对数，可以根据对数的换底公式\n",
    "\n",
    "x = 10**x \n",
    "\n",
    "tf.math.log(x)/tf.math.log(10.) # 换底公式\n"
   ]
  },
  {
   "cell_type": "markdown",
   "metadata": {},
   "source": [
    "### 矩陣運算\n",
    "\n",
    "可以通过 tf.matmul(a, b)函数实现\n",
    "\n",
    "根据矩阵相乘的定义，𝑨和𝑩能够矩阵相乘的条件是，𝑨的倒数第一个维度长度(列)和𝑩 的倒数第二个维度长度(行)必须相等。比如张量 a shape:[4,3,28,32]可以与张量 b shape:[4,3,32,2]进行矩阵相乘"
   ]
  },
  {
   "cell_type": "markdown",
   "metadata": {},
   "source": [
    "## 產生測試數據\n",
    "\n",
    "### 使用 sklearn"
   ]
  },
  {
   "cell_type": "code",
   "execution_count": 2,
   "metadata": {},
   "outputs": [],
   "source": [
    "from sklearn.datasets import make_blobs"
   ]
  },
  {
   "cell_type": "code",
   "execution_count": 3,
   "metadata": {},
   "outputs": [],
   "source": [
    "data = make_blobs(n_samples = 100,n_features=2,centers=4,random_state=75)"
   ]
  },
  {
   "cell_type": "code",
   "execution_count": 4,
   "metadata": {},
   "outputs": [
    {
     "data": {
      "text/plain": [
       "<matplotlib.collections.PathCollection at 0x1ae0ece18e0>"
      ]
     },
     "execution_count": 4,
     "metadata": {},
     "output_type": "execute_result"
    },
    {
     "data": {
      "image/png": "[encoded data removed]",
      "text/plain": [
       "<Figure size 432x288 with 1 Axes>"
      ]
     },
     "metadata": {
      "needs_background": "light"
     },
     "output_type": "display_data"
    }
   ],
   "source": [
    "features = data[0]\n",
    "labels = data[1]\n",
    "plt.scatter(features[:,0],features[:,1],c=labels, cmap='coolwarm')"
   ]
  },
  {
   "cell_type": "markdown",
   "metadata": {},
   "source": [
    "### 使用 numpy Generate data"
   ]
  },
  {
   "cell_type": "code",
   "execution_count": 5,
   "metadata": {},
   "outputs": [
    {
     "name": "stdout",
     "output_type": "stream",
     "text": [
      "(1000, 2)\n"
     ]
    }
   ],
   "source": [
    "observations = 1000\n",
    "\n",
    "xs = np.random.uniform(low=-10, high=10, size=(observations,1))\n",
    "zs = np.random.uniform(low=-10, high=10, size=(observations,1))\n",
    "\n",
    "inputs = np.column_stack((xs,zs))\n",
    "print(inputs.shape)"
   ]
  },
  {
   "cell_type": "markdown",
   "metadata": {},
   "source": [
    "## 給定一個 Function \n",
    "\n",
    "f(x,z) = 2*x - 3*z + 5 + noise"
   ]
  },
  {
   "cell_type": "code",
   "execution_count": 6,
   "metadata": {},
   "outputs": [
    {
     "name": "stdout",
     "output_type": "stream",
     "text": [
      "(1000, 1)\n"
     ]
    }
   ],
   "source": [
    "noise = np.random.uniform(-1,1,(observations,1))\n",
    "\n",
    "targets = 2*xs - 3*zs + 5 + noise\n",
    "\n",
    "print(targets.shape)"
   ]
  },
  {
   "cell_type": "markdown",
   "metadata": {},
   "source": [
    "畫出來看"
   ]
  },
  {
   "cell_type": "code",
   "execution_count": 7,
   "metadata": {},
   "outputs": [],
   "source": [
    "# 記得一定要轉置，否則 plot 會出錯\n",
    "\n",
    "xs = xs.reshape(observations,)\n",
    "zs = zs.reshape(observations,)\n",
    "targets = targets.reshape(observations,)"
   ]
  },
  {
   "cell_type": "code",
   "execution_count": 8,
   "metadata": {},
   "outputs": [
    {
     "data": {
      "image/png": "[encoded data removed]",
      "text/plain": [
       "<Figure size 432x288 with 1 Axes>"
      ]
     },
     "metadata": {
      "needs_background": "light"
     },
     "output_type": "display_data"
    }
   ],
   "source": [
    "fig = plt.figure()\n",
    "ax = fig.add_subplot(111, projection = '3d')\n",
    "ax.plot(xs,zs, targets)\n",
    "ax.set_xlabel('xs')\n",
    "ax.set_ylabel('zs')\n",
    "ax.set_zlabel('Targets')\n",
    "ax.view_init(azim=100)\n",
    "plt.show()"
   ]
  },
  {
   "cell_type": "code",
   "execution_count": 9,
   "metadata": {},
   "outputs": [],
   "source": [
    "# 轉回來陣列的形狀\n",
    "\n",
    "xs = xs.reshape(observations,1)\n",
    "zs = zs.reshape(observations,1)\n",
    "targets = targets.reshape(observations,1)"
   ]
  },
  {
   "cell_type": "markdown",
   "metadata": {},
   "source": [
    "## Define weights and biases\n",
    "\n",
    "![Initial weights and biases](pictures/144627.png)"
   ]
  },
  {
   "cell_type": "code",
   "execution_count": 10,
   "metadata": {},
   "outputs": [
    {
     "name": "stdout",
     "output_type": "stream",
     "text": [
      "weight =  [[-0.07113213]\n",
      " [ 0.09991581]]\n",
      "biases =  [-0.03548996]\n"
     ]
    }
   ],
   "source": [
    "init_range = 0.1\n",
    "\n",
    "weights = np.random.uniform(-init_range, init_range, size =(2,1))\n",
    "biases = np.random.uniform(-init_range, init_range, size =1)\n",
    "print('weight = ', weights)\n",
    "print('biases = ', biases)"
   ]
  },
  {
   "cell_type": "markdown",
   "metadata": {},
   "source": [
    "## Define a Learning rate"
   ]
  },
  {
   "cell_type": "code",
   "execution_count": 11,
   "metadata": {},
   "outputs": [],
   "source": [
    "learning_rate = 0.02"
   ]
  },
  {
   "cell_type": "markdown",
   "metadata": {},
   "source": [
    "## Train the model\n",
    "\n",
    "![Initial weights and biases](pictures/150250.png)"
   ]
  },
  {
   "cell_type": "code",
   "execution_count": 12,
   "metadata": {
    "collapsed": true,
    "jupyter": {
     "outputs_hidden": true
    },
    "tags": []
   },
   "outputs": [
    {
     "name": "stdout",
     "output_type": "stream",
     "text": [
      "239.9302620071516\n",
      "39.16035597855547\n",
      "14.943743370356438\n",
      "11.66713857355036\n",
      "10.892977144298333\n",
      "10.431873944610581\n",
      "10.022684970101055\n",
      "9.633664814525877\n",
      "9.260460067353062\n",
      "8.902019164076387\n",
      "8.55770852023726\n",
      "8.226965061621327\n",
      "7.909253445925434\n",
      "7.604060104759754\n",
      "7.310891789344378\n",
      "7.0292746961181205\n",
      "6.758753691349342\n",
      "6.498891574353296\n",
      "6.249268370756705\n",
      "6.009480653738738\n",
      "5.7791408920328315\n",
      "5.557876823620351\n",
      "5.345330854101842\n",
      "5.141159478773315\n",
      "4.945032727473464\n",
      "4.756633631304665\n",
      "4.5756577103659\n",
      "4.4018124816696345\n",
      "4.234816986447462\n",
      "4.074401336080542\n",
      "3.9203062759209435\n",
      "3.772282766299048\n",
      "3.630091580039804\n",
      "3.4935029158373654\n",
      "3.3622960268633095\n",
      "3.236258864008155\n",
      "3.1151877331796687\n",
      "2.9988869661040543\n",
      "2.8871686040980267\n",
      "2.7798520943006726\n",
      "2.6767639978741946\n",
      "2.577737709701926\n",
      "2.482613189130619\n",
      "2.391236701321853\n",
      "2.3034605687945215\n",
      "2.219142932756904\n",
      "2.138147523842542\n",
      "2.0603434418794557\n",
      "1.9856049443367227\n",
      "1.9138112431065561\n",
      "1.8448463092934404\n",
      "1.778598685694824\n",
      "1.7149613066703386\n",
      "1.6538313251083938\n",
      "1.5951099462105303\n",
      "1.5387022678248896\n",
      "1.4845171270707482\n",
      "1.4324669530062637\n",
      "1.382467625101297\n",
      "1.3344383372865953\n",
      "1.2883014673596236\n",
      "1.243982451535976\n",
      "1.2014096639436298\n",
      "1.160514300865282\n",
      "1.1212302695417016\n",
      "1.0834940813563696\n",
      "1.0472447492287864\n",
      "1.0124236890506269\n",
      "0.9789746250054324\n",
      "0.9468434986188436\n",
      "0.9159783813923641\n",
      "0.8863293908794768\n",
      "0.8578486100684742\n",
      "0.8304900099417075\n",
      "0.8042093750861082\n",
      "0.7789642322347526\n",
      "0.7547137816239845\n",
      "0.7314188310551568\n",
      "0.7090417325544325\n",
      "0.6875463215282693\n",
      "0.6668978583162586\n",
      "0.6470629720468696\n",
      "0.6280096067053385\n",
      "0.6097069693265639\n",
      "0.592125480229269\n",
      "0.5752367252110011\n",
      "0.5590134096267165\n",
      "0.5434293142767285\n",
      "0.5284592530327259\n",
      "0.5140790321333875\n",
      "0.5002654110837985\n",
      "0.4869960650954896\n",
      "0.47424954900637994\n",
      "0.4620052626223275\n",
      "0.4502434174242662\n",
      "0.4389450045871308\n",
      "0.4280917642588701\n",
      "0.4176661560499171\n",
      "0.40765133068540693\n",
      "0.3980311027743387\n",
      "0.3887899246516658\n",
      "0.379912861251046\n",
      "0.3713855659676352\n",
      "0.3631942574719227\n",
      "0.3553256974371286\n",
      "0.3477671691441743\n",
      "0.34050645692964454\n",
      "0.33353182644352763\n",
      "0.32683200568482434\n",
      "0.3203961667843833\n",
      "0.3142139085055152\n",
      "0.3082752394341038\n",
      "0.30257056183105296\n",
      "0.29709065612096397\n",
      "0.29182666599198603\n",
      "0.2867700840827457\n",
      "0.28191273823323504\n",
      "0.2772467782774309\n",
      "0.2727646633563035\n",
      "0.2684591497307093\n"
     ]
    }
   ],
   "source": [
    "for i in range(120):\n",
    "    outputs = np.dot(inputs, weights) + biases\n",
    "    deltas = outputs - targets\n",
    "    \n",
    "    loss = np.sum(deltas **2) / 2 / observations\n",
    "    print(loss)\n",
    "    \n",
    "    deltas_scaled = deltas / observations\n",
    "    \n",
    "    weights = weights - learning_rate * np.dot(inputs.T, deltas_scaled)\n",
    "    biases = biases - learning_rate * np.sum(deltas_scaled)"
   ]
  },
  {
   "cell_type": "markdown",
   "metadata": {},
   "source": [
    "## 比較 ML 跟設定值的差異\n",
    "\n",
    "f(x,z) = 2*x - 3*z + 5 (bias) + noise"
   ]
  },
  {
   "cell_type": "code",
   "execution_count": 13,
   "metadata": {},
   "outputs": [
    {
     "name": "stdout",
     "output_type": "stream",
     "text": [
      "weight =  [[ 1.99810764]\n",
      " [-2.99927745]]\n",
      "biases =  [4.53390021]\n"
     ]
    },
    {
     "data": {
      "image/png": "[encoded data removed]",
      "text/plain": [
       "<Figure size 432x288 with 1 Axes>"
      ]
     },
     "metadata": {
      "needs_background": "light"
     },
     "output_type": "display_data"
    }
   ],
   "source": [
    "print('weight = ', weights)\n",
    "print('biases = ', biases)\n",
    "\n",
    "plt.plot(outputs, targets)\n",
    "plt.xlabel('outputs')\n",
    "plt.ylabel('targets')\n",
    "plt.show()"
   ]
  },
  {
   "cell_type": "markdown",
   "metadata": {
    "tags": [],
    "toc-hr-collapsed": true
   },
   "source": [
    "# Tensorflow 上場"
   ]
  },
  {
   "cell_type": "code",
   "execution_count": 14,
   "metadata": {},
   "outputs": [],
   "source": [
    "import numpy as np\n",
    "import matplotlib.pyplot as plt\n",
    "%matplotlib inline\n",
    "import tensorflow as tf"
   ]
  },
  {
   "cell_type": "markdown",
   "metadata": {
    "tags": []
   },
   "source": [
    "## 產生測試數據"
   ]
  },
  {
   "cell_type": "code",
   "execution_count": 15,
   "metadata": {},
   "outputs": [],
   "source": [
    "observations = 1000\n",
    "\n",
    "xs = np.random.uniform(low=-10, high=10, size=(observations,1))\n",
    "zs = np.random.uniform(low=-10, high=10, size=(observations,1))\n",
    "\n",
    "generated_inputs = np.column_stack((xs,zs))\n",
    "\n",
    "noise = np.random.uniform(-1,1,(observations,1))\n",
    "\n",
    "generated_targets = 2*xs - 3*zs + 5 + noise\n",
    "\n",
    "np.savez('TF_intro', inputs=generated_inputs, targets=generated_targets)"
   ]
  },
  {
   "cell_type": "markdown",
   "metadata": {},
   "source": [
    "## 使用 Tensorflow 解題"
   ]
  },
  {
   "cell_type": "code",
   "execution_count": 16,
   "metadata": {},
   "outputs": [],
   "source": [
    "training_data = np.load('TF_intro.npz')"
   ]
  },
  {
   "cell_type": "code",
   "execution_count": 17,
   "metadata": {
    "collapsed": true,
    "jupyter": {
     "outputs_hidden": true
    },
    "tags": []
   },
   "outputs": [
    {
     "name": "stdout",
     "output_type": "stream",
     "text": [
      "Epoch 1/100\n",
      "32/32 [==============================] - 2s 1ms/step - loss: 59.2784\n",
      "Epoch 2/100\n",
      "32/32 [==============================] - 0s 1ms/step - loss: 5.2662\n",
      "Epoch 3/100\n",
      "32/32 [==============================] - 0s 1ms/step - loss: 1.7497\n",
      "Epoch 4/100\n",
      "32/32 [==============================] - 0s 1ms/step - loss: 0.7996\n",
      "Epoch 5/100\n",
      "32/32 [==============================] - 0s 1ms/step - loss: 0.4227\n",
      "Epoch 6/100\n",
      "32/32 [==============================] - 0s 1ms/step - loss: 0.3748\n",
      "Epoch 7/100\n",
      "32/32 [==============================] - 0s 1ms/step - loss: 0.3348\n",
      "Epoch 8/100\n",
      "32/32 [==============================] - 0s 1ms/step - loss: 0.3489\n",
      "Epoch 9/100\n",
      "32/32 [==============================] - 0s 1ms/step - loss: 0.3500\n",
      "Epoch 10/100\n",
      "32/32 [==============================] - 0s 1ms/step - loss: 0.3469\n",
      "Epoch 11/100\n",
      "32/32 [==============================] - 0s 1ms/step - loss: 0.3427\n",
      "Epoch 12/100\n",
      "32/32 [==============================] - 0s 1ms/step - loss: 0.3335\n",
      "Epoch 13/100\n",
      "32/32 [==============================] - 0s 1ms/step - loss: 0.3453\n",
      "Epoch 14/100\n",
      "32/32 [==============================] - 0s 1ms/step - loss: 0.3211\n",
      "Epoch 15/100\n",
      "32/32 [==============================] - 0s 1ms/step - loss: 0.3506\n",
      "Epoch 16/100\n",
      "32/32 [==============================] - 0s 1ms/step - loss: 0.3392\n",
      "Epoch 17/100\n",
      "32/32 [==============================] - 0s 1ms/step - loss: 0.3235\n",
      "Epoch 18/100\n",
      "32/32 [==============================] - 0s 1ms/step - loss: 0.3260\n",
      "Epoch 19/100\n",
      "32/32 [==============================] - 0s 1ms/step - loss: 0.3381\n",
      "Epoch 20/100\n",
      "32/32 [==============================] - 0s 1ms/step - loss: 0.3221\n",
      "Epoch 21/100\n",
      "32/32 [==============================] - 0s 1ms/step - loss: 0.3427\n",
      "Epoch 22/100\n",
      "32/32 [==============================] - 0s 1ms/step - loss: 0.3312\n",
      "Epoch 23/100\n",
      "32/32 [==============================] - 0s 1ms/step - loss: 0.3503\n",
      "Epoch 24/100\n",
      "32/32 [==============================] - 0s 1ms/step - loss: 0.3294\n",
      "Epoch 25/100\n",
      "32/32 [==============================] - 0s 1ms/step - loss: 0.3331\n",
      "Epoch 26/100\n",
      "32/32 [==============================] - 0s 1ms/step - loss: 0.3362\n",
      "Epoch 27/100\n",
      "32/32 [==============================] - 0s 1ms/step - loss: 0.3279\n",
      "Epoch 28/100\n",
      "32/32 [==============================] - 0s 1ms/step - loss: 0.3299\n",
      "Epoch 29/100\n",
      "32/32 [==============================] - 0s 1ms/step - loss: 0.3287\n",
      "Epoch 30/100\n",
      "32/32 [==============================] - 0s 1ms/step - loss: 0.3450\n",
      "Epoch 31/100\n",
      "32/32 [==============================] - 0s 1ms/step - loss: 0.3118\n",
      "Epoch 32/100\n",
      "32/32 [==============================] - 0s 1ms/step - loss: 0.3219\n",
      "Epoch 33/100\n",
      "32/32 [==============================] - 0s 1ms/step - loss: 0.3257\n",
      "Epoch 34/100\n",
      "32/32 [==============================] - 0s 1ms/step - loss: 0.3249\n",
      "Epoch 35/100\n",
      "32/32 [==============================] - 0s 1ms/step - loss: 0.3444\n",
      "Epoch 36/100\n",
      "32/32 [==============================] - 0s 1ms/step - loss: 0.3324\n",
      "Epoch 37/100\n",
      "32/32 [==============================] - 0s 1ms/step - loss: 0.3465\n",
      "Epoch 38/100\n",
      "32/32 [==============================] - 0s 1ms/step - loss: 0.3108\n",
      "Epoch 39/100\n",
      "32/32 [==============================] - 0s 1ms/step - loss: 0.3336\n",
      "Epoch 40/100\n",
      "32/32 [==============================] - 0s 1ms/step - loss: 0.3286\n",
      "Epoch 41/100\n",
      "32/32 [==============================] - 0s 1ms/step - loss: 0.3369\n",
      "Epoch 42/100\n",
      "32/32 [==============================] - 0s 1ms/step - loss: 0.3352\n",
      "Epoch 43/100\n",
      "32/32 [==============================] - 0s 1ms/step - loss: 0.3233\n",
      "Epoch 44/100\n",
      "32/32 [==============================] - 0s 1ms/step - loss: 0.3424\n",
      "Epoch 45/100\n",
      "32/32 [==============================] - 0s 1ms/step - loss: 0.3476\n",
      "Epoch 46/100\n",
      "32/32 [==============================] - 0s 1ms/step - loss: 0.3184\n",
      "Epoch 47/100\n",
      "32/32 [==============================] - 0s 1ms/step - loss: 0.3585\n",
      "Epoch 48/100\n",
      "32/32 [==============================] - 0s 1ms/step - loss: 0.3524\n",
      "Epoch 49/100\n",
      "32/32 [==============================] - 0s 1ms/step - loss: 0.3380\n",
      "Epoch 50/100\n",
      "32/32 [==============================] - 0s 1ms/step - loss: 0.3255\n",
      "Epoch 51/100\n",
      "32/32 [==============================] - 0s 1ms/step - loss: 0.3506\n",
      "Epoch 52/100\n",
      "32/32 [==============================] - 0s 1ms/step - loss: 0.3416\n",
      "Epoch 53/100\n",
      "32/32 [==============================] - 0s 1ms/step - loss: 0.3231\n",
      "Epoch 54/100\n",
      "32/32 [==============================] - 0s 1ms/step - loss: 0.3277\n",
      "Epoch 55/100\n",
      "32/32 [==============================] - 0s 1ms/step - loss: 0.3323\n",
      "Epoch 56/100\n",
      "32/32 [==============================] - 0s 1ms/step - loss: 0.3489\n",
      "Epoch 57/100\n",
      "32/32 [==============================] - 0s 1ms/step - loss: 0.3202\n",
      "Epoch 58/100\n",
      "32/32 [==============================] - 0s 1ms/step - loss: 0.3358\n",
      "Epoch 59/100\n",
      "32/32 [==============================] - 0s 1ms/step - loss: 0.3514\n",
      "Epoch 60/100\n",
      "32/32 [==============================] - 0s 1ms/step - loss: 0.3363\n",
      "Epoch 61/100\n",
      "32/32 [==============================] - 0s 1ms/step - loss: 0.3393\n",
      "Epoch 62/100\n",
      "32/32 [==============================] - 0s 1ms/step - loss: 0.3297\n",
      "Epoch 63/100\n",
      "32/32 [==============================] - 0s 1ms/step - loss: 0.3227\n",
      "Epoch 64/100\n",
      "32/32 [==============================] - 0s 2ms/step - loss: 0.3427\n",
      "Epoch 65/100\n",
      "32/32 [==============================] - 0s 1ms/step - loss: 0.3194\n",
      "Epoch 66/100\n",
      "32/32 [==============================] - 0s 1ms/step - loss: 0.3215\n",
      "Epoch 67/100\n",
      "32/32 [==============================] - 0s 1ms/step - loss: 0.3388\n",
      "Epoch 68/100\n",
      "32/32 [==============================] - 0s 1ms/step - loss: 0.3303\n",
      "Epoch 69/100\n",
      "32/32 [==============================] - 0s 1ms/step - loss: 0.3248\n",
      "Epoch 70/100\n",
      "32/32 [==============================] - 0s 1ms/step - loss: 0.3235\n",
      "Epoch 71/100\n",
      "32/32 [==============================] - 0s 1ms/step - loss: 0.3332\n",
      "Epoch 72/100\n",
      "32/32 [==============================] - 0s 1ms/step - loss: 0.3364\n",
      "Epoch 73/100\n",
      "32/32 [==============================] - 0s 1ms/step - loss: 0.3514\n",
      "Epoch 74/100\n",
      "32/32 [==============================] - 0s 1ms/step - loss: 0.3329\n",
      "Epoch 75/100\n",
      "32/32 [==============================] - 0s 1ms/step - loss: 0.3245\n",
      "Epoch 76/100\n",
      "32/32 [==============================] - 0s 1ms/step - loss: 0.3501\n",
      "Epoch 77/100\n",
      "32/32 [==============================] - 0s 1ms/step - loss: 0.3300\n",
      "Epoch 78/100\n",
      "32/32 [==============================] - 0s 1ms/step - loss: 0.3335\n",
      "Epoch 79/100\n",
      "32/32 [==============================] - 0s 1ms/step - loss: 0.3234\n",
      "Epoch 80/100\n",
      "32/32 [==============================] - 0s 1ms/step - loss: 0.3342\n",
      "Epoch 81/100\n",
      "32/32 [==============================] - 0s 1ms/step - loss: 0.3494\n",
      "Epoch 82/100\n",
      "32/32 [==============================] - 0s 1ms/step - loss: 0.3312\n",
      "Epoch 83/100\n",
      "32/32 [==============================] - 0s 1ms/step - loss: 0.3206\n",
      "Epoch 84/100\n",
      "32/32 [==============================] - 0s 1ms/step - loss: 0.3516\n",
      "Epoch 85/100\n",
      "32/32 [==============================] - 0s 1ms/step - loss: 0.3373\n",
      "Epoch 86/100\n",
      "32/32 [==============================] - 0s 1ms/step - loss: 0.3314\n",
      "Epoch 87/100\n",
      "32/32 [==============================] - 0s 1ms/step - loss: 0.3471\n",
      "Epoch 88/100\n",
      "32/32 [==============================] - 0s 1ms/step - loss: 0.3244\n",
      "Epoch 89/100\n",
      "32/32 [==============================] - 0s 1ms/step - loss: 0.3292\n",
      "Epoch 90/100\n",
      "32/32 [==============================] - 0s 1ms/step - loss: 0.3245\n",
      "Epoch 91/100\n",
      "32/32 [==============================] - 0s 1ms/step - loss: 0.3304\n",
      "Epoch 92/100\n",
      "32/32 [==============================] - 0s 1ms/step - loss: 0.3602\n",
      "Epoch 93/100\n",
      "32/32 [==============================] - 0s 1ms/step - loss: 0.3504\n",
      "Epoch 94/100\n",
      "32/32 [==============================] - 0s 1ms/step - loss: 0.3382\n",
      "Epoch 95/100\n",
      "32/32 [==============================] - 0s 1ms/step - loss: 0.3441\n",
      "Epoch 96/100\n",
      "32/32 [==============================] - 0s 1ms/step - loss: 0.3552\n",
      "Epoch 97/100\n",
      "32/32 [==============================] - 0s 1ms/step - loss: 0.3338\n",
      "Epoch 98/100\n",
      "32/32 [==============================] - 0s 1ms/step - loss: 0.3248\n",
      "Epoch 99/100\n",
      "32/32 [==============================] - 0s 1ms/step - loss: 0.3684\n",
      "Epoch 100/100\n",
      "32/32 [==============================] - 0s 1ms/step - loss: 0.3549\n"
     ]
    },
    {
     "data": {
      "text/plain": [
       "<tensorflow.python.keras.callbacks.History at 0x1ae1e3ccac0>"
      ]
     },
     "execution_count": 17,
     "metadata": {},
     "output_type": "execute_result"
    }
   ],
   "source": [
    "## The first version\n",
    "\n",
    "input_size = 2\n",
    "output_size = 1\n",
    "\n",
    "model = tf.keras.Sequential([\n",
    "    tf.keras.layers.Dense(output_size)\n",
    "])\n",
    "\n",
    "model.compile(optimizer='sgd', loss='mean_squared_error')\n",
    "model.fit(training_data['inputs'], training_data['targets'], epochs=100, verbose = 1)"
   ]
  },
  {
   "cell_type": "code",
   "execution_count": 18,
   "metadata": {
    "collapsed": true,
    "jupyter": {
     "outputs_hidden": true
    },
    "tags": []
   },
   "outputs": [
    {
     "name": "stdout",
     "output_type": "stream",
     "text": [
      "Epoch 1/100\n",
      "32/32 [==============================] - 0s 1ms/step - loss: 79.6284\n",
      "Epoch 2/100\n",
      "32/32 [==============================] - 0s 1ms/step - loss: 5.4490\n",
      "Epoch 3/100\n",
      "32/32 [==============================] - 0s 1ms/step - loss: 1.8163\n",
      "Epoch 4/100\n",
      "32/32 [==============================] - 0s 1ms/step - loss: 0.7367\n",
      "Epoch 5/100\n",
      "32/32 [==============================] - 0s 1ms/step - loss: 0.4421\n",
      "Epoch 6/100\n",
      "32/32 [==============================] - 0s 1ms/step - loss: 0.3725\n",
      "Epoch 7/100\n",
      "32/32 [==============================] - 0s 1ms/step - loss: 0.3210\n",
      "Epoch 8/100\n",
      "32/32 [==============================] - 0s 1ms/step - loss: 0.3485\n",
      "Epoch 9/100\n",
      "32/32 [==============================] - 0s 1ms/step - loss: 0.3489\n",
      "Epoch 10/100\n",
      "32/32 [==============================] - 0s 1ms/step - loss: 0.3479\n",
      "Epoch 11/100\n",
      "32/32 [==============================] - 0s 1ms/step - loss: 0.3505\n",
      "Epoch 12/100\n",
      "32/32 [==============================] - 0s 1ms/step - loss: 0.3742\n",
      "Epoch 13/100\n",
      "32/32 [==============================] - 0s 1ms/step - loss: 0.3339\n",
      "Epoch 14/100\n",
      "32/32 [==============================] - 0s 1ms/step - loss: 0.3498\n",
      "Epoch 15/100\n",
      "32/32 [==============================] - 0s 1ms/step - loss: 0.3300\n",
      "Epoch 16/100\n",
      "32/32 [==============================] - 0s 1ms/step - loss: 0.3263\n",
      "Epoch 17/100\n",
      "32/32 [==============================] - 0s 1ms/step - loss: 0.3354\n",
      "Epoch 18/100\n",
      "32/32 [==============================] - 0s 1ms/step - loss: 0.3485\n",
      "Epoch 19/100\n",
      "32/32 [==============================] - 0s 1ms/step - loss: 0.3361\n",
      "Epoch 20/100\n",
      "32/32 [==============================] - 0s 1ms/step - loss: 0.3446\n",
      "Epoch 21/100\n",
      "32/32 [==============================] - 0s 1ms/step - loss: 0.3576\n",
      "Epoch 22/100\n",
      "32/32 [==============================] - 0s 1ms/step - loss: 0.3544\n",
      "Epoch 23/100\n",
      "32/32 [==============================] - 0s 1ms/step - loss: 0.3365\n",
      "Epoch 24/100\n",
      "32/32 [==============================] - 0s 1ms/step - loss: 0.3602\n",
      "Epoch 25/100\n",
      "32/32 [==============================] - 0s 1ms/step - loss: 0.3247\n",
      "Epoch 26/100\n",
      "32/32 [==============================] - 0s 1ms/step - loss: 0.3333\n",
      "Epoch 27/100\n",
      "32/32 [==============================] - 0s 1ms/step - loss: 0.3399\n",
      "Epoch 28/100\n",
      "32/32 [==============================] - 0s 1ms/step - loss: 0.3461\n",
      "Epoch 29/100\n",
      "32/32 [==============================] - 0s 1ms/step - loss: 0.3410\n",
      "Epoch 30/100\n",
      "32/32 [==============================] - 0s 1ms/step - loss: 0.3458\n",
      "Epoch 31/100\n",
      "32/32 [==============================] - 0s 1ms/step - loss: 0.3440\n",
      "Epoch 32/100\n",
      "32/32 [==============================] - 0s 1ms/step - loss: 0.3347\n",
      "Epoch 33/100\n",
      "32/32 [==============================] - 0s 1ms/step - loss: 0.3178\n",
      "Epoch 34/100\n",
      "32/32 [==============================] - 0s 1ms/step - loss: 0.3350\n",
      "Epoch 35/100\n",
      "32/32 [==============================] - 0s 1ms/step - loss: 0.3445\n",
      "Epoch 36/100\n",
      "32/32 [==============================] - 0s 1ms/step - loss: 0.3318\n",
      "Epoch 37/100\n",
      "32/32 [==============================] - 0s 1ms/step - loss: 0.3259\n",
      "Epoch 38/100\n",
      "32/32 [==============================] - 0s 1ms/step - loss: 0.3445\n",
      "Epoch 39/100\n",
      "32/32 [==============================] - 0s 1ms/step - loss: 0.3361\n",
      "Epoch 40/100\n",
      "32/32 [==============================] - 0s 1ms/step - loss: 0.3344\n",
      "Epoch 41/100\n",
      "32/32 [==============================] - 0s 1ms/step - loss: 0.3391\n",
      "Epoch 42/100\n",
      "32/32 [==============================] - 0s 1ms/step - loss: 0.3436\n",
      "Epoch 43/100\n",
      "32/32 [==============================] - 0s 1ms/step - loss: 0.3238\n",
      "Epoch 44/100\n",
      "32/32 [==============================] - 0s 1ms/step - loss: 0.3505\n",
      "Epoch 45/100\n",
      "32/32 [==============================] - 0s 1ms/step - loss: 0.3350\n",
      "Epoch 46/100\n",
      "32/32 [==============================] - 0s 1ms/step - loss: 0.3329\n",
      "Epoch 47/100\n",
      "32/32 [==============================] - 0s 1ms/step - loss: 0.3439\n",
      "Epoch 48/100\n",
      "32/32 [==============================] - 0s 1ms/step - loss: 0.3487\n",
      "Epoch 49/100\n",
      "32/32 [==============================] - 0s 1ms/step - loss: 0.3490\n",
      "Epoch 50/100\n",
      "32/32 [==============================] - 0s 1ms/step - loss: 0.3487\n",
      "Epoch 51/100\n",
      "32/32 [==============================] - 0s 1ms/step - loss: 0.3468\n",
      "Epoch 52/100\n",
      "32/32 [==============================] - 0s 1ms/step - loss: 0.3347\n",
      "Epoch 53/100\n",
      "32/32 [==============================] - 0s 1ms/step - loss: 0.3378\n",
      "Epoch 54/100\n",
      "32/32 [==============================] - 0s 1ms/step - loss: 0.3474\n",
      "Epoch 55/100\n",
      "32/32 [==============================] - 0s 1ms/step - loss: 0.3358\n",
      "Epoch 56/100\n",
      "32/32 [==============================] - 0s 1ms/step - loss: 0.3498\n",
      "Epoch 57/100\n",
      "32/32 [==============================] - 0s 1ms/step - loss: 0.3153\n",
      "Epoch 58/100\n",
      "32/32 [==============================] - 0s 1ms/step - loss: 0.3275\n",
      "Epoch 59/100\n",
      "32/32 [==============================] - 0s 1ms/step - loss: 0.3382\n",
      "Epoch 60/100\n",
      "32/32 [==============================] - 0s 1ms/step - loss: 0.3564\n",
      "Epoch 61/100\n",
      "32/32 [==============================] - 0s 1ms/step - loss: 0.3834\n",
      "Epoch 62/100\n",
      "32/32 [==============================] - 0s 1ms/step - loss: 0.3545\n",
      "Epoch 63/100\n",
      "32/32 [==============================] - 0s 1ms/step - loss: 0.3414\n",
      "Epoch 64/100\n",
      "32/32 [==============================] - 0s 1ms/step - loss: 0.3312\n",
      "Epoch 65/100\n",
      "32/32 [==============================] - 0s 1ms/step - loss: 0.3264\n",
      "Epoch 66/100\n",
      "32/32 [==============================] - 0s 1ms/step - loss: 0.3433\n",
      "Epoch 67/100\n",
      "32/32 [==============================] - 0s 1ms/step - loss: 0.3340\n",
      "Epoch 68/100\n",
      "32/32 [==============================] - 0s 1ms/step - loss: 0.3294\n",
      "Epoch 69/100\n",
      "32/32 [==============================] - 0s 1ms/step - loss: 0.3226\n",
      "Epoch 70/100\n",
      "32/32 [==============================] - 0s 1ms/step - loss: 0.3431\n",
      "Epoch 71/100\n",
      "32/32 [==============================] - 0s 1ms/step - loss: 0.3238\n",
      "Epoch 72/100\n",
      "32/32 [==============================] - 0s 1ms/step - loss: 0.3341\n",
      "Epoch 73/100\n",
      "32/32 [==============================] - 0s 1ms/step - loss: 0.3425\n",
      "Epoch 74/100\n",
      "32/32 [==============================] - 0s 1ms/step - loss: 0.3378\n",
      "Epoch 75/100\n",
      "32/32 [==============================] - 0s 1ms/step - loss: 0.3359\n",
      "Epoch 76/100\n",
      "32/32 [==============================] - 0s 1ms/step - loss: 0.3521\n",
      "Epoch 77/100\n",
      "32/32 [==============================] - 0s 1ms/step - loss: 0.3317\n",
      "Epoch 78/100\n",
      "32/32 [==============================] - 0s 1ms/step - loss: 0.3516\n",
      "Epoch 79/100\n",
      "32/32 [==============================] - 0s 1ms/step - loss: 0.3558\n",
      "Epoch 80/100\n",
      "32/32 [==============================] - 0s 1ms/step - loss: 0.3430\n",
      "Epoch 81/100\n",
      "32/32 [==============================] - 0s 1ms/step - loss: 0.3403\n",
      "Epoch 82/100\n",
      "32/32 [==============================] - 0s 1ms/step - loss: 0.3641\n",
      "Epoch 83/100\n",
      "32/32 [==============================] - 0s 1ms/step - loss: 0.3415\n",
      "Epoch 84/100\n",
      "32/32 [==============================] - 0s 1ms/step - loss: 0.3285\n",
      "Epoch 85/100\n",
      "32/32 [==============================] - 0s 1ms/step - loss: 0.3369\n",
      "Epoch 86/100\n",
      "32/32 [==============================] - 0s 1ms/step - loss: 0.3331\n",
      "Epoch 87/100\n",
      "32/32 [==============================] - 0s 1ms/step - loss: 0.3364\n",
      "Epoch 88/100\n",
      "32/32 [==============================] - 0s 1ms/step - loss: 0.3295\n",
      "Epoch 89/100\n",
      "32/32 [==============================] - 0s 1ms/step - loss: 0.3195\n",
      "Epoch 90/100\n",
      "32/32 [==============================] - 0s 1ms/step - loss: 0.3316\n",
      "Epoch 91/100\n",
      "32/32 [==============================] - 0s 1ms/step - loss: 0.3425\n",
      "Epoch 92/100\n",
      "32/32 [==============================] - 0s 1ms/step - loss: 0.3210\n",
      "Epoch 93/100\n",
      "32/32 [==============================] - 0s 1ms/step - loss: 0.3324\n",
      "Epoch 94/100\n",
      "32/32 [==============================] - 0s 1ms/step - loss: 0.3467\n",
      "Epoch 95/100\n",
      "32/32 [==============================] - 0s 1ms/step - loss: 0.3236\n",
      "Epoch 96/100\n",
      "32/32 [==============================] - 0s 1ms/step - loss: 0.3350\n",
      "Epoch 97/100\n",
      "32/32 [==============================] - 0s 1ms/step - loss: 0.3460\n",
      "Epoch 98/100\n",
      "32/32 [==============================] - 0s 1ms/step - loss: 0.3364\n",
      "Epoch 99/100\n",
      "32/32 [==============================] - 0s 1ms/step - loss: 0.3270\n",
      "Epoch 100/100\n",
      "32/32 [==============================] - 0s 1ms/step - loss: 0.3182\n"
     ]
    },
    {
     "data": {
      "text/plain": [
       "<tensorflow.python.keras.callbacks.History at 0x1ae2ae145e0>"
      ]
     },
     "execution_count": 18,
     "metadata": {},
     "output_type": "execute_result"
    }
   ],
   "source": [
    "## Some improvements - 其實差不多…因為 noise 的大小就在那裏\n",
    "\n",
    "input_size = 2\n",
    "output_size = 1\n",
    "\n",
    "model = tf.keras.Sequential([tf.keras.layers.Dense(output_size,\n",
    "                         kernel_initializer = tf.random_uniform_initializer(minval = -0.1, maxval = 0.1),\n",
    "                         bias_initializer = tf.random_uniform_initializer(minval = -0.1, maxval = 0.1))])\n",
    "\n",
    "custom_optimizer = tf.keras.optimizers.SGD(learning_rate=0.01)\n",
    "\n",
    "model.compile(optimizer='sgd', loss='mean_squared_error')\n",
    "model.fit(training_data['inputs'], training_data['targets'], epochs=100, verbose = 1)"
   ]
  },
  {
   "cell_type": "markdown",
   "metadata": {},
   "source": [
    "## 查看結果\n",
    "\n",
    "f(x,z) = 2*x - 3*z + 5 + noise\n",
    "\n",
    "weight = [2,-3]\n",
    "\n",
    "bias = 5"
   ]
  },
  {
   "cell_type": "code",
   "execution_count": 19,
   "metadata": {
    "tags": []
   },
   "outputs": [
    {
     "name": "stdout",
     "output_type": "stream",
     "text": [
      "weight =  [[ 2.0203795]\n",
      " [-3.013592 ]]\n",
      "biases =  [5.0036554]\n"
     ]
    }
   ],
   "source": [
    "weight = model.layers[0].get_weights()[0]\n",
    "bias = model.layers[0].get_weights()[1]\n",
    "\n",
    "print('weight = ', weight)\n",
    "print('biases = ', bias)"
   ]
  },
  {
   "cell_type": "markdown",
   "metadata": {},
   "source": [
    "## 使用此結果做出預測"
   ]
  },
  {
   "cell_type": "code",
   "execution_count": 20,
   "metadata": {},
   "outputs": [],
   "source": [
    "pred = (model.predict_on_batch(training_data['inputs']))\n",
    "tar = training_data['targets']\n",
    "err = pred - tar\n",
    "display = np.column_stack((pred.round(1), tar, err.round(1)))"
   ]
  },
  {
   "cell_type": "code",
   "execution_count": 21,
   "metadata": {},
   "outputs": [
    {
     "data": {
      "text/plain": [
       "array([[-26.20000076, -26.6288494 ,   0.5       ],\n",
       "       [ 32.29999924,  32.38168138,  -0.1       ],\n",
       "       [ -1.10000002,  -0.22899371,  -0.9       ],\n",
       "       ...,\n",
       "       [ 32.09999847,  32.61155112,  -0.6       ],\n",
       "       [ 41.09999847,  41.51283989,  -0.4       ],\n",
       "       [ -7.80000019,  -7.16015797,  -0.6       ]])"
      ]
     },
     "execution_count": 21,
     "metadata": {},
     "output_type": "execute_result"
    }
   ],
   "source": [
    "display"
   ]
  },
  {
   "cell_type": "markdown",
   "metadata": {
    "tags": [],
    "toc-hr-collapsed": true
   },
   "source": [
    "# 模型 Models\n",
    "\n",
    "## Combination of Linear and Non-linear is \"Layer\"\n",
    "\n",
    "![](pictures/203304.png)\n",
    "\n",
    "![](pictures/203825.png)\n",
    "\n",
    "![](pictures/204123.png)\n",
    "\n",
    "![](pictures/204245.png)"
   ]
  },
  {
   "cell_type": "markdown",
   "metadata": {},
   "source": [
    "![](pictures/2021-06-12_204834.png)\n",
    "\n",
    "![](pictures/2021-06-12_205118.png)\n",
    "\n",
    "![](pictures/2021-06-12_205503.png)\n",
    "\n",
    "![](pictures/2021-06-12_205649.png)"
   ]
  },
  {
   "cell_type": "markdown",
   "metadata": {},
   "source": [
    "![](pictures/2021-06-12_205838.png)"
   ]
  },
  {
   "cell_type": "markdown",
   "metadata": {},
   "source": [
    "## 如果只有 linear relationship, 無法 stack layers\n",
    "\n",
    "![](pictures/2021-06-12_210345.png)\n",
    "\n",
    "如果是這樣，那就失去了意義了，因為兩層可以直接算成一層 (如果沒有 non-linear mixture)\n",
    "\n",
    "![](pictures/2021-06-12_210656.png)\n",
    "\n",
    "![](pictures/2021-06-12_210819.png)"
   ]
  },
  {
   "cell_type": "markdown",
   "metadata": {},
   "source": [
    "## Activation Functions (non-linear)\n",
    "\n",
    "![](pictures/2021-06-12_211058.png)"
   ]
  },
  {
   "cell_type": "markdown",
   "metadata": {},
   "source": [
    "## Type of Activation Functions\n",
    "\n",
    "![](pictures/2021-06-12_211536.png)"
   ]
  },
  {
   "cell_type": "code",
   "execution_count": null,
   "metadata": {},
   "outputs": [],
   "source": []
  },
  {
   "cell_type": "markdown",
   "metadata": {},
   "source": [
    "They are in some ways:\n",
    "> monotonic, continuous, and differentiable\n",
    "\n",
    "But softmax is a little bit different - it takes as argument the whole vector (@i位置除以整個線型的 sumary), 而其他 activation function 都是看單點的值\n",
    "\n",
    "![](pictures/2021-06-12_212537.png)\n",
    "\n",
    "![](pictures/2021-06-12_212724.png)\n",
    "\n",
    "![](pictures/2021-06-12_212939.png)\n",
    "\n",
    "重點是，softmax 的加總為 1，最後會呈現「機率分布」。所以很多分類的 AI 最後一層必須用 softmax"
   ]
  },
  {
   "cell_type": "markdown",
   "metadata": {},
   "source": [
    "## 反向傳播算法 Backpropagation\n",
    "\n",
    "![](pictures/2021-06-12_213440.png)\n",
    "\n",
    "![](pictures/2021-06-12_213915.png)\n",
    "\n",
    "![](pictures/2021-06-12_213721.png)\n",
    "\n",
    "![](pictures/2021-06-12_214028.png)"
   ]
  },
  {
   "cell_type": "markdown",
   "metadata": {},
   "source": [
    "## An Example to describe backpropagation\n",
    "\n",
    "![](./pictures/2021-06-12_214432.png)\n",
    "\n",
    "![](./pictures/2021-06-12_214652.png)"
   ]
  },
  {
   "cell_type": "markdown",
   "metadata": {
    "tags": [],
    "toc-hr-collapsed": true
   },
   "source": [
    "# Underfitting and Overfitting\n",
    "\n",
    "## What is a proper fitting looks like?\n",
    "\n",
    "![](pictures/2021-06-13_063241.png)\n",
    "\n",
    "![](pictures/2021-06-13_063414.png)"
   ]
  },
  {
   "cell_type": "markdown",
   "metadata": {},
   "source": [
    "## Training and Validation loss means something\n",
    "\n",
    "\n",
    "![](pictures/2021-06-13_064129.png)\n",
    "\n",
    "開始 overfitting, Training loss 變小，但 validation loss 開始變大 (model 不適用於 validation 的點)\n",
    "\n",
    "![](pictures/2021-06-13_064403.png)"
   ]
  },
  {
   "cell_type": "markdown",
   "metadata": {},
   "source": [
    "## 結論，可行做法\n",
    "\n",
    "分資料，Training dataset 做 backpropagation\n",
    "\n",
    "![](pictures/2021-06-13_070429.png)\n",
    "\n",
    "利用 validation 做 inward test，看 loss 的變化(變小是應該的，反向變大時，可能是 overfitting)\n",
    "看單一的測試不準，我們看每個 epoch 的綜合結果\n",
    "\n",
    "![](pictures/2021-06-13_070626.png)\n",
    "\n",
    "\n",
    "最後用 test dataset 來確認 model 的準確程序\n",
    "\n",
    "![](pictures/2021-06-13_071015.png)"
   ]
  },
  {
   "cell_type": "markdown",
   "metadata": {},
   "source": [
    "## N-Fold Cross-Validation 當資料量不大的時候\n",
    "\n",
    "![](pictures/2021-06-13_071752.png)\n",
    "\n",
    "## Early stopping - before overfit\n",
    "\n",
    "用兩個主要的參數：updatres too small, and validation loss increases 若都是 True, 就停下來\n",
    "\n",
    "![](pictures/2021-06-13_72602.png)"
   ]
  },
  {
   "cell_type": "markdown",
   "metadata": {},
   "source": [
    "## Dropout 一種對抗過擬合的方法：丟棄法 (Dropout)\n",
    "\n",
    "Dropout 是一種對抗過擬合的正則化方法，在訓練時每一次的迭代 (epoch)皆以一定的機率丟棄隱藏層神經元，而被丟棄的神經元不會傳遞訊息，例如 Fig 1 的每一層以 0.5 的機率丟棄神經元，所以再向前傳播時紅色被打叉的神經元不會傳遞訊息。\n",
    "\n",
    "此外，在反向傳播時，被丟棄的神經元其梯度是 0，所以在訓練時不會過度依賴某一些神經元，藉此達到對抗過擬合的效果。\n",
    "\n",
    "但是，如果在訓練時以機率 p 丟棄神經元，而測試時不會丟棄神經元，因此，會造成測試的結果比訓練大 1/(1−p) 倍，所以為了保持輸出的期望值不變，會在測試時將神經元向前傳遞的訊息乘以 1−p。\n",
    "\n",
    "'''python\n",
    "keep_prob = tf.placeholder(tf.float32) # probability to keep units\n",
    "\n",
    "hidden_layer = tf.add(tf.matmul(features, weights[0]), biases[0])\n",
    "hidden_layer = tf.nn.relu(hidden_layer)\n",
    "hidden_layer = tf.nn.dropout(hidden_layer, keep_prob)\n",
    "\n",
    "logits = tf.add(tf.matmul(hidden_layer, weights[1]), biases[1])\n",
    "'''\n"
   ]
  },
  {
   "cell_type": "markdown",
   "metadata": {},
   "source": []
  },
  {
   "cell_type": "code",
   "execution_count": null,
   "metadata": {},
   "outputs": [],
   "source": []
  },
  {
   "cell_type": "markdown",
   "metadata": {
    "toc-hr-collapsed": true
   },
   "source": [
    "# Initialization - how to\n",
    "\n",
    "要特別注意，當 random.uniform 和 sigmoid 搭配時，可能會喪失 non-linear 的能力\n",
    "\n",
    "![](pictures/2021-06-13_074351.png)\n",
    "\n",
    "因為機率的關係，大部份數字座落在中間，而 sigmoid 剛好是 linear 的。而兩個邊界又讓 sigmoid 成為 1 or 0 (無法學習)\n",
    "\n",
    "![](pictures/2021-06-13_075036.png)"
   ]
  },
  {
   "cell_type": "markdown",
   "metadata": {},
   "source": [
    "## Xavier initialization (tensorflow default)\n",
    "\n",
    "- Understanding the difficulty of training deep feedforward neural networks\n",
    "\n",
    "![](pictures/2021-06-13_080937.png)\n",
    "\n",
    "- 可以看到 initiation 跟 input 和 output 的數量是有關的，因為 backpropagation\n",
    "\n",
    "![](pictures/2021-06-13_081136.png)\n"
   ]
  },
  {
   "cell_type": "markdown",
   "metadata": {
    "toc-hr-collapsed": true
   },
   "source": [
    "# Gradient Descent(GD), learning rate\n",
    "\n",
    "## Stochastic Gradient Descent(SGD)\n",
    "\n",
    "跟 Gradient Descent 很像，但做到每個 epoch 內的 real time check\n",
    "\n",
    "SGD 是以 batch 為概念，不是 epoch，就是比較細，比較快(雖然會喪失一些 accuracy，但可以後續處理)\n",
    "\n",
    "![](pictures/2021-06-13_081936.png)\n",
    "\n",
    "What if there are bunch of local minimums and not leading to global minimum?\n",
    "\n",
    "![](pictures/2021-06-13_084557.png)\n"
   ]
  },
  {
   "cell_type": "markdown",
   "metadata": {},
   "source": [
    "## Momentum \n",
    "\n",
    "![](pictures/2021-06-13_084959.png)\n",
    "\n",
    "將 Loss 對 w 微分，其實這也是理想的狀態，某些情況也許不適用。alfa 是常用的值。\n",
    "\n",
    "![](pictures/2021-06-13_085248.png)"
   ]
  },
  {
   "cell_type": "markdown",
   "metadata": {},
   "source": [
    "## learning rate\n",
    "\n",
    "Constant learning rate 肯定是不好的。Here is the strategy\n",
    "\n",
    "![](pictures/2021-06-13_090013.png)\n",
    "\n",
    "也可以跟 epoch 的數目相關。C 為 constant. 可以設的跟 epoch 接近\n",
    "\n",
    "![](pictures/2021-06-13_090338.png)"
   ]
  },
  {
   "cell_type": "markdown",
   "metadata": {},
   "source": [
    "## Adaptive Gradient Algorithm - AdaGrad\n",
    "\n",
    "![](pictures/2021-06-13_091931.png)\n",
    "\n",
    "## RMSprop - root mean square propagation\n",
    "\n",
    "比 Ada 好，會偵測 moving average\n",
    "\n",
    "![](pictures/2021-06-13_092610.png)\n",
    "\n",
    "## 目前最強：Adam (Momentum + Learning rate)\n",
    "\n",
    "把 RMSprop 和 Learning rate 整合，M 為 momentum\n",
    "\n",
    "![](pictures/2021-06-13_092937.png)"
   ]
  },
  {
   "cell_type": "markdown",
   "metadata": {
    "tags": [],
    "toc-hr-collapsed": true
   },
   "source": [
    "# 資料的前處理\n",
    "\n",
    "## 不做不行，因為很多 Tool 有其限制\n",
    "\n",
    "而且每個 input feature 如果在不同的 scale，會發生嚴重的「認知」問題\n",
    "\n",
    "![](pictures/2021-06-13_093529.png)\n",
    "\n",
    "## 如果是 exponential 型的資料，那要取 Log 才好\n",
    "\n",
    "![](pictures/2021-06-13_093915.png)"
   ]
  },
  {
   "cell_type": "markdown",
   "metadata": {},
   "source": [
    "## 標準化處理數據 Standardization and Feature Scaling\n",
    "\n",
    "> 用 Sigma 來表現\n",
    "\n",
    "> 此處理在統計上也是有意義的\n",
    "\n",
    "![](pictures/2021-06-13_094211.png)\n",
    "\n",
    "## 其他方法：Normalization, PCA, Whitening, ..."
   ]
  },
  {
   "cell_type": "markdown",
   "metadata": {},
   "source": [
    "## Buffering - 一次抓取的數據量，避免 memory out of stack\n",
    "\n",
    "最好，數字是小於 number of samples"
   ]
  },
  {
   "cell_type": "markdown",
   "metadata": {},
   "source": [
    "## Balancing - 資料的不對稱，會扭曲 model\n",
    "\n",
    "- 如果讓 Model 分貓和狗。貓的資料佔 90%，狗 10%, 則一個只會產出貓的 model 有 90% 準確率\n",
    "\n",
    "- 資料的前處理需要把各種「分類」做「分類」，不能偏心太多"
   ]
  },
  {
   "cell_type": "markdown",
   "metadata": {
    "toc-hr-collapsed": true
   },
   "source": [
    "# 分類方法 Categorical Data\n",
    "\n",
    "## 編號不好，隱含了「順序性」\n",
    "\n",
    "## Binary encoding\n",
    "\n",
    "![](pictures/2021-06-13_100007.png)\n",
    "\n",
    "## One-hot encoding (很好，但分類數量大的時候會浪費 memory 的計算量能)\n",
    "\n",
    "![](pictures/2021-06-13_100329.png)"
   ]
  },
  {
   "cell_type": "markdown",
   "metadata": {},
   "source": [
    "## Optimizer, Loss Function\n",
    "\n",
    "optimizer > adam\n",
    "\n",
    "loss function: \n",
    "> binary_crossentropy: 通常用在 binary encoding\n",
    "\n",
    "> categorical_crossentropy: expects that you've on-hot encoded the targets\n",
    "\n",
    "> sparse_categorical_crossentropy: applies on-hot encoding"
   ]
  },
  {
   "cell_type": "markdown",
   "metadata": {},
   "source": [
    "# 多 Model 戰法 - 每個 Model 錯的題目可能不一樣，那就三個投票，用 weighting\n",
    "\n",
    "![](pictures/2021-06-18_210019.png)"
   ]
  },
  {
   "cell_type": "markdown",
   "metadata": {},
   "source": [
    "# Callback 訓練過程中的事件\n",
    "\n",
    "Callback 可以在模型訓練過程中觸發事件，記錄訓練過程產生的資訊、在查核點(Checkpoint)對模型存檔、迫使訓練提早結束...等，除了可以使用內建(built-in)的Callback，也可以自制(customize)Callback。\n",
    "\n",
    "Callback搭配許多 Keras 內建的函數，可以完全解構模型訓練的過程。\n",
    "以下我們就來使用一些範例，來說明Callback功能。\n",
    "\n",
    "內建的Callback\n",
    "常用的 Callback 包括：\n",
    "\n",
    "CSVLogger：可將訓練過程記錄至 CSV 檔案。\n",
    "TensorBoard：這是跟 Tensorflow 結合的有利支援，將訓練過程記錄存成 TensorBoard 檔案格式，直接使用 TensorBoard 工具觀看統計圖。\n",
    "ModelCheckpoint：由於訓練過程耗時，有可能訓練一半就當掉，因此，我們可以利用這個 Callback，在每一個檢查點(Checkpoint)存檔，下次執行時，就可以從中斷點繼續訓練。\n",
    "EarlyStopping：可設定訓練提早結束的條件。\n",
    "LearningRateScheduler：可動態調整學習率(Learning Rate)。\n",
    "其他還有：\n",
    "\n",
    "ReduceLROnPlateau：當訓練已無改善時，可以降低學習率，追求更細微的改善，找到更精準的最佳解。\n",
    "LambdaCallback：直接使用匿名函數自制Callback。\n",
    "TerminateOnNaN：當損失函數為NaN(Null value)，訓練提早結束。\n",
    "ProgbarLogger：記錄訓練進度。"
   ]
  },
  {
   "cell_type": "markdown",
   "metadata": {},
   "source": [
    "# 優化模型參數\n",
    "\n",
    "pip install keras-tunner\n",
    "\n",
    "import kerastuner as kt\n",
    "\n",
    "在寫 model 的時候，埋入一個 可變化的 值"
   ]
  },
  {
   "cell_type": "code",
   "execution_count": null,
   "metadata": {},
   "outputs": [],
   "source": []
  },
  {
   "cell_type": "code",
   "execution_count": null,
   "metadata": {},
   "outputs": [],
   "source": []
  },
  {
   "cell_type": "markdown",
   "metadata": {},
   "source": [
    "# 儲存 Model 和 Weights\n",
    "\n",
    "pip install pyyaml, h5py\n",
    "\n",
    "詳見例子的說明"
   ]
  },
  {
   "cell_type": "code",
   "execution_count": null,
   "metadata": {},
   "outputs": [],
   "source": []
  },
  {
   "cell_type": "markdown",
   "metadata": {},
   "source": [
    "# The End"
   ]
  },
  {
   "cell_type": "code",
   "execution_count": null,
   "metadata": {},
   "outputs": [],
   "source": []
  },
  {
   "cell_type": "code",
   "execution_count": null,
   "metadata": {},
   "outputs": [],
   "source": []
  },
  {
   "cell_type": "markdown",
   "metadata": {},
   "source": [
    "# 儲存 Model 和 Weights\n",
    "\n",
    "pip install pyyaml, h5py"
   ]
  },
  {
   "cell_type": "code",
   "execution_count": null,
   "metadata": {},
   "outputs": [],
   "source": []
  },
  {
   "cell_type": "code",
   "execution_count": null,
   "metadata": {},
   "outputs": [],
   "source": []
  },
  {
   "cell_type": "markdown",
   "metadata": {},
   "source": []
  }
 ],
 "metadata": {
  "kernelspec": {
   "display_name": "Python 3",
   "language": "python",
   "name": "python3"
  },
  "language_info": {
   "codemirror_mode": {
    "name": "ipython",
    "version": 3
   },
   "file_extension": ".py",
   "mimetype": "text/x-python",
   "name": "python",
   "nbconvert_exporter": "python",
   "pygments_lexer": "ipython3",
   "version": "3.8.8"
  },
  "toc-autonumbering": false,
  "toc-showmarkdowntxt": false,
  "toc-showtags": false
 },
 "nbformat": 4,
 "nbformat_minor": 4
}
